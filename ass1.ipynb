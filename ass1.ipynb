{
 "cells": [
  {
   "cell_type": "code",
   "execution_count": 24,
   "id": "d0cb6daa-4266-46bd-94ae-daaa9f5a1eb3",
   "metadata": {},
   "outputs": [],
   "source": [
    "import pandas as pd\n",
    "import numpy as np\n",
    "import matplotlib as plt\n",
    "import seaborn as sns\n",
    "import warnings as wr\n",
    "wr.filterwarnings('ignore')"
   ]
  },
  {
   "cell_type": "code",
   "execution_count": 25,
   "id": "52ee142f-35d3-4323-a328-362d3c95c7ae",
   "metadata": {},
   "outputs": [
    {
     "name": "stdout",
     "output_type": "stream",
     "text": [
      "          Make       Model  Year                Engine Fuel Type  Engine HP  \\\n",
      "0          BMW  1 Series M  2011     premium unleaded (required)      335.0   \n",
      "1          BMW    1 Series  2011     premium unleaded (required)      300.0   \n",
      "2          BMW    1 Series  2011     premium unleaded (required)      300.0   \n",
      "3          BMW    1 Series  2011     premium unleaded (required)      230.0   \n",
      "4          BMW    1 Series  2011     premium unleaded (required)      230.0   \n",
      "...        ...         ...   ...                             ...        ...   \n",
      "11909    Acura         ZDX  2012     premium unleaded (required)      300.0   \n",
      "11910    Acura         ZDX  2012     premium unleaded (required)      300.0   \n",
      "11911    Acura         ZDX  2012     premium unleaded (required)      300.0   \n",
      "11912    Acura         ZDX  2013  premium unleaded (recommended)      300.0   \n",
      "11913  Lincoln      Zephyr  2006                regular unleaded      221.0   \n",
      "\n",
      "       Engine Cylinders Transmission Type      Driven_Wheels  Number of Doors  \\\n",
      "0                   6.0            MANUAL   rear wheel drive              2.0   \n",
      "1                   6.0            MANUAL   rear wheel drive              2.0   \n",
      "2                   6.0            MANUAL   rear wheel drive              2.0   \n",
      "3                   6.0            MANUAL   rear wheel drive              2.0   \n",
      "4                   6.0            MANUAL   rear wheel drive              2.0   \n",
      "...                 ...               ...                ...              ...   \n",
      "11909               6.0         AUTOMATIC    all wheel drive              4.0   \n",
      "11910               6.0         AUTOMATIC    all wheel drive              4.0   \n",
      "11911               6.0         AUTOMATIC    all wheel drive              4.0   \n",
      "11912               6.0         AUTOMATIC    all wheel drive              4.0   \n",
      "11913               6.0         AUTOMATIC  front wheel drive              4.0   \n",
      "\n",
      "                             Market Category Vehicle Size  Vehicle Style  \\\n",
      "0      Factory Tuner,Luxury,High-Performance      Compact          Coupe   \n",
      "1                         Luxury,Performance      Compact    Convertible   \n",
      "2                    Luxury,High-Performance      Compact          Coupe   \n",
      "3                         Luxury,Performance      Compact          Coupe   \n",
      "4                                     Luxury      Compact    Convertible   \n",
      "...                                      ...          ...            ...   \n",
      "11909             Crossover,Hatchback,Luxury      Midsize  4dr Hatchback   \n",
      "11910             Crossover,Hatchback,Luxury      Midsize  4dr Hatchback   \n",
      "11911             Crossover,Hatchback,Luxury      Midsize  4dr Hatchback   \n",
      "11912             Crossover,Hatchback,Luxury      Midsize  4dr Hatchback   \n",
      "11913                                 Luxury      Midsize          Sedan   \n",
      "\n",
      "       highway MPG  city mpg  Popularity   MSRP  \n",
      "0               26        19        3916  46135  \n",
      "1               28        19        3916  40650  \n",
      "2               28        20        3916  36350  \n",
      "3               28        18        3916  29450  \n",
      "4               28        18        3916  34500  \n",
      "...            ...       ...         ...    ...  \n",
      "11909           23        16         204  46120  \n",
      "11910           23        16         204  56670  \n",
      "11911           23        16         204  50620  \n",
      "11912           23        16         204  50920  \n",
      "11913           26        17          61  28995  \n",
      "\n",
      "[11914 rows x 16 columns]\n"
     ]
    }
   ],
   "source": [
    "df = pd.read_csv(\"data.csv\")  # input the data set\n",
    "print(df)  # printing the first and last 5 rows"
   ]
  },
  {
   "cell_type": "code",
   "execution_count": 22,
   "id": "cda4cb0e-9b96-45c2-a606-9e636ceea9c5",
   "metadata": {},
   "outputs": [
    {
     "name": "stdout",
     "output_type": "stream",
     "text": [
      "Make                  object\n",
      "Model                 object\n",
      "Year                   int64\n",
      "Engine HP            float64\n",
      "Engine Cylinders     float64\n",
      "Transmission Type     object\n",
      "Driven_Wheels         object\n",
      "highway MPG            int64\n",
      "city mpg               int64\n",
      "MSRP                   int64\n",
      "dtype: object\n"
     ]
    }
   ],
   "source": [
    "datatypes = df.dtypes \n",
    "print(datatypes)"
   ]
  },
  {
   "cell_type": "code",
   "execution_count": 28,
   "id": "e78d44b7-dd48-4776-8da4-05f7cbbfd6e2",
   "metadata": {},
   "outputs": [
    {
     "name": "stdout",
     "output_type": "stream",
     "text": [
      "          Make       Model  Year  Engine HP  Engine Cylinders  \\\n",
      "0          BMW  1 Series M  2011      335.0               6.0   \n",
      "1          BMW    1 Series  2011      300.0               6.0   \n",
      "2          BMW    1 Series  2011      300.0               6.0   \n",
      "3          BMW    1 Series  2011      230.0               6.0   \n",
      "4          BMW    1 Series  2011      230.0               6.0   \n",
      "...        ...         ...   ...        ...               ...   \n",
      "11909    Acura         ZDX  2012      300.0               6.0   \n",
      "11910    Acura         ZDX  2012      300.0               6.0   \n",
      "11911    Acura         ZDX  2012      300.0               6.0   \n",
      "11912    Acura         ZDX  2013      300.0               6.0   \n",
      "11913  Lincoln      Zephyr  2006      221.0               6.0   \n",
      "\n",
      "      Transmission Type      Driven_Wheels  highway MPG  city mpg   MSRP  \n",
      "0                MANUAL   rear wheel drive           26        19  46135  \n",
      "1                MANUAL   rear wheel drive           28        19  40650  \n",
      "2                MANUAL   rear wheel drive           28        20  36350  \n",
      "3                MANUAL   rear wheel drive           28        18  29450  \n",
      "4                MANUAL   rear wheel drive           28        18  34500  \n",
      "...                 ...                ...          ...       ...    ...  \n",
      "11909         AUTOMATIC    all wheel drive           23        16  46120  \n",
      "11910         AUTOMATIC    all wheel drive           23        16  56670  \n",
      "11911         AUTOMATIC    all wheel drive           23        16  50620  \n",
      "11912         AUTOMATIC    all wheel drive           23        16  50920  \n",
      "11913         AUTOMATIC  front wheel drive           26        17  28995  \n",
      "\n",
      "[11914 rows x 10 columns]\n"
     ]
    }
   ],
   "source": [
    "del df['Engine Fuel Type']\n",
    "del df['Market Category']\n",
    "del df['Vehicle Style']\n",
    "del df['Popularity']\n",
    "del df['Number of Doors']\n",
    "del df['Vehicle Size']\n",
    "print(df)"
   ]
  },
  {
   "cell_type": "code",
   "execution_count": 30,
   "id": "354b6310-a8c2-4ad3-b0b2-ec2cae1bba9d",
   "metadata": {},
   "outputs": [
    {
     "name": "stdout",
     "output_type": "stream",
     "text": [
      "          Make       Model  Year     HP  Cylinders Transmission  \\\n",
      "0          BMW  1 Series M  2011  335.0        6.0       MANUAL   \n",
      "1          BMW    1 Series  2011  300.0        6.0       MANUAL   \n",
      "2          BMW    1 Series  2011  300.0        6.0       MANUAL   \n",
      "3          BMW    1 Series  2011  230.0        6.0       MANUAL   \n",
      "4          BMW    1 Series  2011  230.0        6.0       MANUAL   \n",
      "...        ...         ...   ...    ...        ...          ...   \n",
      "11909    Acura         ZDX  2012  300.0        6.0    AUTOMATIC   \n",
      "11910    Acura         ZDX  2012  300.0        6.0    AUTOMATIC   \n",
      "11911    Acura         ZDX  2012  300.0        6.0    AUTOMATIC   \n",
      "11912    Acura         ZDX  2013  300.0        6.0    AUTOMATIC   \n",
      "11913  Lincoln      Zephyr  2006  221.0        6.0    AUTOMATIC   \n",
      "\n",
      "              Drive Mode  MPG-H  MPG-C  Price  \n",
      "0       rear wheel drive     26     19  46135  \n",
      "1       rear wheel drive     28     19  40650  \n",
      "2       rear wheel drive     28     20  36350  \n",
      "3       rear wheel drive     28     18  29450  \n",
      "4       rear wheel drive     28     18  34500  \n",
      "...                  ...    ...    ...    ...  \n",
      "11909    all wheel drive     23     16  46120  \n",
      "11910    all wheel drive     23     16  56670  \n",
      "11911    all wheel drive     23     16  50620  \n",
      "11912    all wheel drive     23     16  50920  \n",
      "11913  front wheel drive     26     17  28995  \n",
      "\n",
      "[11914 rows x 10 columns]\n"
     ]
    }
   ],
   "source": [
    "df.rename(columns={'Engine HP': 'HP', 'Engine Cylinders': 'Cylinders', 'Transmission Type': 'Transmission','Driven_Wheels': 'Drive Mode','highway MPG': 'MPG-H','city mpg': 'MPG-C','MSRP':'Price'}, inplace=True)\n",
    "print(df)"
   ]
  },
  {
   "cell_type": "code",
   "execution_count": 35,
   "id": "f353e5d7-66bd-4a4d-a6c2-d5625d5a481f",
   "metadata": {},
   "outputs": [
    {
     "name": "stdout",
     "output_type": "stream",
     "text": [
      "(11914, 10)\n",
      "(11914, 10)\n"
     ]
    }
   ],
   "source": [
    "print(df.shape)\n",
    "df.drop_duplicates()\n",
    "print(df.shape)"
   ]
  },
  {
   "cell_type": "code",
   "execution_count": null,
   "id": "ff34a0c6-8f1f-43ea-9e0d-e2204f54af07",
   "metadata": {},
   "outputs": [],
   "source": []
  },
  {
   "cell_type": "code",
   "execution_count": null,
   "id": "50412773-8d2d-4ea6-bc49-bbc9885ca7d9",
   "metadata": {},
   "outputs": [],
   "source": []
  }
 ],
 "metadata": {
  "kernelspec": {
   "display_name": "Python 3 (ipykernel)",
   "language": "python",
   "name": "python3"
  },
  "language_info": {
   "codemirror_mode": {
    "name": "ipython",
    "version": 3
   },
   "file_extension": ".py",
   "mimetype": "text/x-python",
   "name": "python",
   "nbconvert_exporter": "python",
   "pygments_lexer": "ipython3",
   "version": "3.11.9"
  }
 },
 "nbformat": 4,
 "nbformat_minor": 5
}
